{
 "cells": [
  {
   "cell_type": "code",
   "execution_count": 1,
   "id": "e94f4483-241a-4a30-b257-afb35f10376a",
   "metadata": {},
   "outputs": [],
   "source": [
    "from functools import partial\n",
    "\n",
    "# functools.partial(func, /, *args, **keywords)\n",
    "# Return a new partial object which when called will behave like func called with the positional arguments args and keyword arguments keywords. If more arguments are supplied to the call, they are appended to args. If additional keyword arguments are supplied, they extend and override keywords. Roughly equivalent to:\n",
    "\n",
    "def partial(func, /, *args, **keywords):\n",
    "    def newfunc(*fargs, **fkeywords):\n",
    "        newkeywords = {**keywords, **fkeywords}\n",
    "        return func(*args, *fargs, **newkeywords)\n",
    "    newfunc.func = func\n",
    "    newfunc.args = args\n",
    "    newfunc.keywords = keywords\n",
    "    return newfunc\n",
    "# The partial() is used for partial function application which “freezes” some portion of a function’s arguments and/or keywords resulting in a new object with a simplified signature. For example, partial() can be used to create a callable that behaves like the int() function where the base argument defaults to two:\n",
    "\n",
    "# >>>\n",
    "# from functools import partial\n",
    "# basetwo = partial(int, base=2)\n",
    "# basetwo.__doc__ = 'Convert base 2 string to an int.'\n",
    "# basetwo('10010')\n",
    "# 18"
   ]
  },
  {
   "cell_type": "code",
   "execution_count": 2,
   "id": "3171f45b-f805-44e3-aa53-147bb30b027c",
   "metadata": {},
   "outputs": [
    {
     "data": {
      "text/plain": [
       "18"
      ]
     },
     "execution_count": 2,
     "metadata": {},
     "output_type": "execute_result"
    }
   ],
   "source": [
    "# from functools import partial\n",
    "basetwo = partial(int, base=2)\n",
    "basetwo.__doc__ = 'Convert base 2 string to an int.'\n",
    "basetwo('10010')\n",
    "# 18"
   ]
  },
  {
   "cell_type": "code",
   "execution_count": 4,
   "id": "630553f3-07b8-4d7b-8bdd-e3bcd559bbd7",
   "metadata": {},
   "outputs": [
    {
     "data": {
      "text/plain": [
       "18"
      ]
     },
     "execution_count": 4,
     "metadata": {},
     "output_type": "execute_result"
    }
   ],
   "source": [
    "basefour = partial(int, base=4)\n",
    "basefour('102')"
   ]
  },
  {
   "cell_type": "code",
   "execution_count": 5,
   "id": "6b2e8863-e57c-4a6d-9492-ce432dfd0534",
   "metadata": {},
   "outputs": [
    {
     "data": {
      "text/plain": [
       "18"
      ]
     },
     "execution_count": 5,
     "metadata": {},
     "output_type": "execute_result"
    }
   ],
   "source": [
    "int('18')"
   ]
  },
  {
   "cell_type": "code",
   "execution_count": 6,
   "id": "f9b49470-87fe-46dc-9295-37c5ea03e02d",
   "metadata": {},
   "outputs": [
    {
     "data": {
      "text/plain": [
       "<function __main__.partial.<locals>.newfunc(*fargs, **fkeywords)>"
      ]
     },
     "execution_count": 6,
     "metadata": {},
     "output_type": "execute_result"
    }
   ],
   "source": [
    "basefour"
   ]
  },
  {
   "cell_type": "code",
   "execution_count": 7,
   "id": "b37007f5-aad2-4081-8c59-cd1f2cc7d1c3",
   "metadata": {},
   "outputs": [
    {
     "name": "stdout",
     "output_type": "stream",
     "text": [
      "<function partial.<locals>.newfunc at 0x107baa200>\n"
     ]
    }
   ],
   "source": [
    "print(str(basetwo))"
   ]
  },
  {
   "cell_type": "code",
   "execution_count": null,
   "id": "e7b3f9f4-bf0a-40ca-8a64-b808765566be",
   "metadata": {},
   "outputs": [],
   "source": []
  }
 ],
 "metadata": {
  "kernelspec": {
   "display_name": "Python 3 (ipykernel)",
   "language": "python",
   "name": "python3"
  },
  "language_info": {
   "codemirror_mode": {
    "name": "ipython",
    "version": 3
   },
   "file_extension": ".py",
   "mimetype": "text/x-python",
   "name": "python",
   "nbconvert_exporter": "python",
   "pygments_lexer": "ipython3",
   "version": "3.10.13"
  }
 },
 "nbformat": 4,
 "nbformat_minor": 5
}
